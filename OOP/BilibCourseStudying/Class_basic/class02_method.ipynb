{
 "cells": [
  {
   "cell_type": "code",
   "execution_count": 2,
   "metadata": {
    "collapsed": true
   },
   "outputs": [
    {
     "name": "stdout",
     "output_type": "stream",
     "text": [
      "1\n",
      "2\n",
      "3\n",
      "4\n"
     ]
    }
   ],
   "source": [
    "'''\n",
    "course24/152:方法的讲解说明\n",
    "course25/152:方法的概念和作用\n",
    "\n",
    "1.类的两个要素：属性（静态）和方法（动态）；\n",
    "属性：让类具备一些特征；\n",
    "方法：让类”动起来跑起来“\n",
    "'''\n",
    "'''\n",
    "方法和函数非常类型：\n",
    "主要区别：调用方法不同\n",
    "'''\n",
    "'''\n",
    "函数\n",
    "'''\n",
    "# 定义函数\n",
    "def eat():\n",
    "    print(1)\n",
    "    print(2)\n",
    "# 调用函数\n",
    "eat()\n",
    "\n",
    "class Person():\n",
    "    # 定义方法\n",
    "    # ide自动补全self;\n",
    "    def eat2(self):\n",
    "        print(3)\n",
    "        print(4)\n",
    "p = Person()\n",
    "p.eat2() # 调用方法（目标的动作）\n"
   ]
  },
  {
   "cell_type": "code",
   "execution_count": 10,
   "outputs": [
    {
     "name": "stdout",
     "output_type": "stream",
     "text": [
      "<__main__.Person object at 0x000002A413F6B9D0>\n",
      "this is a casemethod <__main__.Person object at 0x000002A413F6B9D0>\n",
      "this is a classmethod <class '__main__.Person'>\n",
      "this is a staticmethod\n",
      "{'age': <function run at 0x000002A412E16B90>}\n"
     ]
    }
   ],
   "source": [
    "'''\n",
    "course26/152:类、对象、类对象、实例对象、实例的叫法规范\n",
    "course27/152:方法的划分依据\n",
    "course28/152: 方法的存储问题\n",
    "类和对象，本质都是对象，也称 类对象和（一般）对象\n",
    "类和对象关系：对象是由类实例化创建产生的，类和对象也称类和实例；\n",
    "\n",
    "'''\n",
    "# 方法分类：实例方法、类方法 和 静态方法\n",
    "# 不同类型的方法区别是有没有第一个参数的限制\n",
    "class Person():\n",
    "    # 这是一个实例方法\n",
    "    # self 是一个形参而已，可以用任意argument参数，只不过默认self参数而已\n",
    "    def casemethod(self):\n",
    "        print(\"this is a casemethod\",self)\n",
    "\n",
    "    @classmethod #类方法\n",
    "    def classmethod(cls):\n",
    "        print(\"this is a classmethod\",cls)\n",
    "\n",
    "    @staticmethod # 静态方法\n",
    "    def staticmethod():\n",
    "        print(\"this is a staticmethod\")\n",
    "p = Person()\n",
    "print(p)\n",
    "p.casemethod() # 无误\n",
    "# Person.casemethod() # 报错，没有实例，它的第一个参数需要接收实例\n",
    "\n",
    "Person.classmethod()\n",
    "\n",
    "Person.staticmethod()\n",
    "\n",
    "# 方法的存储\n",
    "# python里，万物皆对象，函数也是对象\n",
    "def run():\n",
    "    pass\n",
    "p.age = run\n",
    "print(p.__dict__)\n",
    "\n"
   ],
   "metadata": {
    "collapsed": false,
    "pycharm": {
     "name": "#%%\n"
    }
   }
  },
  {
   "cell_type": "code",
   "execution_count": 14,
   "outputs": [
    {
     "name": "stdout",
     "output_type": "stream",
     "text": [
      "在吃饭 <__main__.Person object at 0x000002A412CF9330> tudou\n",
      "修改默认形参self <__main__.Person object at 0x000002A412CF9330>\n"
     ]
    },
    {
     "ename": "TypeError",
     "evalue": "Person.eat2() takes 0 positional arguments but 1 was given",
     "output_type": "error",
     "traceback": [
      "\u001B[1;31m---------------------------------------------------------------------------\u001B[0m",
      "\u001B[1;31mTypeError\u001B[0m                                 Traceback (most recent call last)",
      "Cell \u001B[1;32mIn [14], line 19\u001B[0m\n\u001B[0;32m     17\u001B[0m p\u001B[38;5;241m.\u001B[39meat(\u001B[38;5;124m\"\u001B[39m\u001B[38;5;124mtudou\u001B[39m\u001B[38;5;124m\"\u001B[39m) \u001B[38;5;66;03m# 默认自动已接受第一个参数self—— 实例本身,不需要人为再传递第一个参数\u001B[39;00m\n\u001B[0;32m     18\u001B[0m p\u001B[38;5;241m.\u001B[39meat1() \u001B[38;5;66;03m# 修改形参self也是可以的，但一般默认self,有含义—— 把实例本身传给第一个默认的参数\u001B[39;00m\n\u001B[1;32m---> 19\u001B[0m \u001B[43mp\u001B[49m\u001B[38;5;241;43m.\u001B[39;49m\u001B[43meat2\u001B[49m\u001B[43m(\u001B[49m\u001B[43m)\u001B[49m\n",
      "\u001B[1;31mTypeError\u001B[0m: Person.eat2() takes 0 positional arguments but 1 was given"
     ]
    }
   ],
   "source": [
    "'''\n",
    "course: 30/152 实例方法\n",
    "'''\n",
    "class Person():\n",
    "    # 实例方法\n",
    "    def eat(self,food):  # self仅仅一个形参，表示实例本身\n",
    "        print('在吃饭',self, food)\n",
    "    def eat1(xxx):\n",
    "        print(\"修改默认形参self\",xxx)\n",
    "    def eat2():   # 没有会报错\n",
    "        print(\"123\")\n",
    "# 实例方法调用\n",
    "p = Person()\n",
    "p.eat(\"tudou\") # 默认自动已接受第一个参数self—— 实例本身,不需要人为再传递第一个参数\n",
    "p.eat1() # 修改形参self也是可以的，但一般默认self,有含义—— 把实例本身传给第一个默认的参数\n",
    "p.eat2()\n",
    "\n",
    "# example\n",
    "lis = [1, 4, 3, 2]\n",
    "# 排序\n",
    "# 方法1：sorted(lis)\n",
    "# 方法2：实例方法—— list.sort()\n",
    "lis.sort()   # 写法更加简洁\n"
   ],
   "metadata": {
    "collapsed": false,
    "pycharm": {
     "name": "#%%\n"
    }
   }
  },
  {
   "cell_type": "code",
   "execution_count": 21,
   "outputs": [
    {
     "name": "stdout",
     "output_type": "stream",
     "text": [
      "this is a classmethod <class '__main__.Person'> 123\n",
      "this is a classmethod <class '__main__.Person'> 345\n",
      "this is a classmethod <class '__main__.Person'> 567\n"
     ]
    }
   ],
   "source": [
    "'''\n",
    "course: 31/152 类方法\n",
    "'''\n",
    "# 定义类方法\n",
    "class Person():\n",
    "    @classmethod # 用装饰器定义类方法\n",
    "    def leifangfa(cls, a):\n",
    "        print(\"this is a classmethod\", cls, a)\n",
    "\n",
    "# 调用类方法\n",
    "# 方法1：类本身调用\n",
    "Person.leifangfa(123)\n",
    "# 方法2：类的对象调用(常用)\n",
    "p = Person()\n",
    "p.leifangfa(345)\n",
    "# 方法3：赋值（指针，引用）\n",
    "fun = Person.leifangfa\n",
    "fun(567)\n",
    "\n",
    "\n"
   ],
   "metadata": {
    "collapsed": false,
    "pycharm": {
     "name": "#%%\n"
    }
   }
  },
  {
   "cell_type": "code",
   "execution_count": 22,
   "outputs": [
    {
     "name": "stdout",
     "output_type": "stream",
     "text": [
      "this is a static method\n",
      "this is a static method\n",
      "this is a static method\n"
     ]
    }
   ],
   "source": [
    "'''\n",
    "course: 32/152 静态方法\n",
    "'''\n",
    "# 定义静态方法\n",
    "class Person:\n",
    "    @staticmethod\n",
    "    def staticmethod():  # 没有默认传入的第一个参数\n",
    "        print(\"this is a static method\")\n",
    "\n",
    "# 调用静态方法\n",
    "# 方法1：类调用\n",
    "Person.staticmethod()\n",
    "# 方法2：实例调用\n",
    "p = Person()\n",
    "p.staticmethod()\n",
    "# 方法3：赋值，指针，引用\n",
    "fun = Person.staticmethod\n",
    "fun()"
   ],
   "metadata": {
    "collapsed": false,
    "pycharm": {
     "name": "#%%\n"
    }
   }
  },
  {
   "cell_type": "code",
   "execution_count": 23,
   "outputs": [],
   "source": [
    "'''\n",
    "course33/152: 不同类型的方法中访问不同类型属性的权限问题\n",
    "'''\n",
    "class Person:\n",
    "    age = 0 # 类属性\n",
    "\n",
    "p = Person()\n",
    "p.num = 10  # 实例属性  划分依据：存储在哪里\n",
    "\n",
    "print(Person.age)\n",
    "print(p.age)\n",
    "\n",
    "# 使用频率：实例方法 > 类方法  > 静态方法\n"
   ],
   "metadata": {
    "collapsed": false,
    "pycharm": {
     "name": "#%%\n"
    }
   }
  }
 ],
 "metadata": {
  "kernelspec": {
   "display_name": "Python 3",
   "language": "python",
   "name": "python3"
  },
  "language_info": {
   "codemirror_mode": {
    "name": "ipython",
    "version": 2
   },
   "file_extension": ".py",
   "mimetype": "text/x-python",
   "name": "python",
   "nbconvert_exporter": "python",
   "pygments_lexer": "ipython2",
   "version": "2.7.6"
  }
 },
 "nbformat": 4,
 "nbformat_minor": 0
}