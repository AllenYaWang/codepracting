{
 "cells": [
  {
   "cell_type": "code",
   "execution_count": null,
   "metadata": {
    "collapsed": true,
    "pycharm": {
     "name": "#%%\n"
    }
   },
   "outputs": [],
   "source": [
    "'''\n",
    "s1 = 'a' + 'b'\n",
    "    + 'c' + 'd'\n",
    "    + 'e' + 'f'\n",
    "'''\n",
    "\n",
    "s2 = 'a' + 'b'\\\n",
    "    + 'c' + 'd'\\\n",
    "    + 'e' + 'f'\n",
    "\n",
    "s3 = ('a' + 'b'\n",
    "    + 'c' + 'd'\n",
    "    + 'e' + 'f')\n",
    "#print(s1)\n",
    "print(s2,len(s2))\n",
    "print(s3)"
   ]
  },
  {
   "cell_type": "code",
   "execution_count": 14,
   "outputs": [
    {
     "name": "stdout",
     "output_type": "stream",
     "text": [
      "2\n",
      "[1, 2, 3]\n"
     ]
    }
   ],
   "source": [
    "numbers = [1, 2, 3]\n",
    "f= lambda x: 2\n",
    "print(f(4))\n",
    "# filter是根据第一个参数函数的返回值的布尔值做出第二个可迭代对象的过滤，true留下，false过滤；\n",
    "print(list(filter(f, numbers)))"
   ],
   "metadata": {
    "collapsed": false,
    "pycharm": {
     "name": "#%%\n"
    }
   }
  },
  {
   "cell_type": "code",
   "execution_count": 20,
   "outputs": [
    {
     "name": "stdout",
     "output_type": "stream",
     "text": [
      "[4, 1, [], 3, 5]\n",
      "[4, 1, 3, 5]\n",
      "[4, 1, 3, 5]\n",
      "[4, 1, 3, 5]\n"
     ]
    }
   ],
   "source": [
    "x1 = [4, 1, 0, 3, 5]\n",
    "x2 = x1[:]\n",
    "x3 = x1[:]\n",
    "x4 = x1[:]\n",
    "x1[2] = []\n",
    "del x2[2]\n",
    "x3.remove(0)\n",
    "x4[2: 3] = []\n",
    "print(x1)\n",
    "print(x2)\n",
    "print(x3)\n",
    "print(x4)\n"
   ],
   "metadata": {
    "collapsed": false,
    "pycharm": {
     "name": "#%%\n"
    }
   }
  },
  {
   "cell_type": "code",
   "execution_count": null,
   "outputs": [],
   "source": [],
   "metadata": {
    "collapsed": false,
    "pycharm": {
     "name": "#%%\n"
    }
   }
  }
 ],
 "metadata": {
  "kernelspec": {
   "display_name": "Python 3",
   "language": "python",
   "name": "python3"
  },
  "language_info": {
   "codemirror_mode": {
    "name": "ipython",
    "version": 2
   },
   "file_extension": ".py",
   "mimetype": "text/x-python",
   "name": "python",
   "nbconvert_exporter": "python",
   "pygments_lexer": "ipython2",
   "version": "2.7.6"
  }
 },
 "nbformat": 4,
 "nbformat_minor": 0
}