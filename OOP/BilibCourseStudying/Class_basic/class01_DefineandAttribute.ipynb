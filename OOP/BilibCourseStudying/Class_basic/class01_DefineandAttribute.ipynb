{
 "cells": [
  {
   "cell_type": "code",
   "execution_count": 7,
   "metadata": {
    "collapsed": true
   },
   "outputs": [
    {
     "name": "stdout",
     "output_type": "stream",
     "text": [
      "<class '__main__.Money'>\n",
      "<__main__.Money object at 0x000001C86A64C850>\n",
      "Money\n",
      "<class '__main__.Money'>\n",
      "<class 'type'>\n"
     ]
    }
   ],
   "source": [
    "'''\n",
    "类和对象的关系：\n",
    "类是对象的抽象—— 对象是类的实例化；\n",
    "注：类class像模具，对象是由模具产生的实例；\n",
    "类是产生对象的模板对象；\n",
    "'''\n",
    "'''\n",
    "course007/152\n",
    "name: 根据类创建一个对象\n",
    "'''\n",
    "# 经典类\n",
    "# 新式类\n",
    "# 定义一个类\n",
    "class Money:\n",
    "    pass\n",
    "\n",
    "\n",
    "print(Money)\n",
    "# 类写完了，相当于有个模块，接下来需要根据模板（类）来创建（实例化）一个对象\n",
    "one = Money() # 类名加小括号完成实例化创建了一个对象，后赋值给一个变量\n",
    "print(one)\n",
    "\n",
    "'''\n",
    "course008/152\n",
    "name: 创建对象的底层运作；\n",
    "'''\n",
    "# 1.类名是Money\n",
    "print(Money.__name__)\n",
    "xxx = Money\n",
    "print(xxx) # 可赋值，不影响\n",
    "\n",
    "# # 2. 变量名是Money\n",
    "# Money = 123 # 可赋值\n",
    "# print(Money)\n",
    "\n",
    "# 3. 类里面有个属性：__class__\n",
    "print(Money.__class__)"
   ]
  },
  {
   "cell_type": "code",
   "execution_count": 24,
   "outputs": [
    {
     "name": "stdout",
     "output_type": "stream",
     "text": [
      "80\n",
      "['小花', '小黑'] 1960291570944\n",
      "[1, 2] 1960291570688\n",
      "[1, 2, 3] 1960291570688\n"
     ]
    },
    {
     "ename": "AttributeError",
     "evalue": "'Person' object has no attribute 'age'",
     "output_type": "error",
     "traceback": [
      "\u001B[1;31m---------------------------------------------------------------------------\u001B[0m",
      "\u001B[1;31mAttributeError\u001B[0m                            Traceback (most recent call last)",
      "Cell \u001B[1;32mIn [24], line 46\u001B[0m\n\u001B[0;32m     44\u001B[0m p1 \u001B[38;5;241m=\u001B[39m Person()\n\u001B[0;32m     45\u001B[0m p1\u001B[38;5;241m.\u001B[39msize \u001B[38;5;241m=\u001B[39m \u001B[38;5;241m20\u001B[39m\n\u001B[1;32m---> 46\u001B[0m \u001B[38;5;28mprint\u001B[39m(\u001B[43mp1\u001B[49m\u001B[38;5;241;43m.\u001B[39;49m\u001B[43mage\u001B[49m)\n",
      "\u001B[1;31mAttributeError\u001B[0m: 'Person' object has no attribute 'age'"
     ]
    }
   ],
   "source": [
    "'''\n",
    "course009/152: 属性与变量的区别和判读依据\n",
    "course010/152: 对象属性—— 添加操作\n",
    "course011/152: 对象属性—— 查询操作\n",
    "course012/152: 对象属性—— 修改操作\n",
    "course013/152: 对象属性—— 删除操作\n",
    "course014/153: 对象属性—— 注意事项\n",
    "\n",
    "'''\n",
    "class Person:\n",
    "    pass\n",
    "'''\n",
    "类的两个要素：属性相关（性别，身高）和方法相关（行为：跑，走，坐）\n",
    "'''\n",
    "# 根据类创建一个对象\n",
    "p = Person()\n",
    "# 给对象增加一个属性；\n",
    "p.age = 18\n",
    "p.height = 180\n",
    "p.age = 80 # 修改对象的属性值；\n",
    "# 验证对象的属性是否增加成功\n",
    "print(p.age)\n",
    "# 查看对象的所有属性\n",
    "# print(p.__dict__)\n",
    "# print(p.sex)\n",
    "# 给对象增加一个可变变量的属性；\n",
    "p.pets = [\"小花\", \"小黑\"]\n",
    "print(p.pets, id(p.pets))\n",
    "p.pets = [1, 2]  # 重新在内存中开辟了一块空间，并重新指向该空间；\n",
    "print(p.pets, id(p.pets))\n",
    "p.pets.append(3)\n",
    "print(p.pets, id(p.pets)) # 修改可变变量，不会重新开辟空间—— 这是一个查询过程;\n",
    "\n",
    "# num = 10\n",
    "# del num\n",
    "# print(num)\n",
    "# # 删除一个对象属性的方法和删除一个变量的方法相同，通过 \"del\" 关键字；\n",
    "# p.name = 'allen'\n",
    "# del p.name  # 删除一个对象的属性；\n",
    "# print(p.name)\n",
    "\n",
    "# 注意事项\n",
    "# 具体的某个属性是依附于具体对象的，不能跨对象调用属性；\n",
    "p1 = Person()\n",
    "p1.size = 20\n",
    "print(p1.age)\n",
    "\n",
    "\n",
    "\n",
    "\n"
   ],
   "metadata": {
    "collapsed": false,
    "pycharm": {
     "name": "#%%\n"
    }
   }
  },
  {
   "cell_type": "code",
   "execution_count": 33,
   "outputs": [
    {
     "name": "stdout",
     "output_type": "stream",
     "text": [
      "20\n",
      "18\n"
     ]
    }
   ],
   "source": [
    "'''\n",
    "类属性\n",
    "course15，16/152: 类属性—— 增加属性；\n",
    "course17/152: 类属性—— 查询属性；\n",
    "course18/152: 类属性—— 修改属性；\n",
    "course19/152: 类属性—— 删除属性；\n",
    "注： 只有查询能从对象向上到类查找，其他增、删和改都没有向上的权限；\n",
    "\n",
    "# python中万物皆对象，类class实质也是一个对象—— 类对象，其创建的对象named实例化对象；\n",
    "'''\n",
    "class Money:\n",
    "    count = 1  # 常用的添加类属性方式；\n",
    "    value = 100\n",
    "    num = 16\n",
    "\n",
    "\n",
    "one = Money()\n",
    "one.num = 18\n",
    "\n",
    "# # Money.count = 1\n",
    "# # print(Money.count)\n",
    "# # print(Money.__dict__)\n",
    "# print(Money.count)\n",
    "# # 对象属性优先级> 类属性优先级，查找对象属性时，优先从对象中找，找不到，再从所属类的属性中找；\n",
    "# print(one.value)\n",
    "# 修改了类的属性值；\n",
    "# Money.count = 10\n",
    "# print(Money.count)\n",
    "# 更改类和对象属性值，互不影响；\n",
    "Money.num = 20\n",
    "print(Money.num)\n",
    "print(one.num)"
   ],
   "metadata": {
    "collapsed": false,
    "pycharm": {
     "name": "#%%\n"
    }
   }
  },
  {
   "cell_type": "code",
   "execution_count": 47,
   "outputs": [
    {
     "name": "stdout",
     "output_type": "stream",
     "text": [
      "100\n",
      "100\n",
      "200\n",
      "200\n",
      "30\n",
      "35\n"
     ]
    }
   ],
   "source": [
    "'''\n",
    "course20/152: 属性的内存存储\n",
    "course20/152: 类属性会被各个对象所共享\n",
    "course20/152: 类属性和对象属性总结对比\n",
    "'''\n",
    "class Money:\n",
    "    age = 30\n",
    "    value = 100\n",
    "one = Money()\n",
    "# one.age = 18\n",
    "# one.height = 180\n",
    "# one.age = 19\n",
    "# print(one.__dict__) # 查看对象的属性\n",
    "# one.__dict__ = {\"name\": \"allen\" , \"age\": 20}\n",
    "# print(one.name)\n",
    "# print(one.__dict__[\"name\"])\n",
    "# # Money.__dict__ = {\"sex\" : \"male\"}\n",
    "# Money.__dict__[\"age\"] = 50   # 类class的内置属性 __dict__ 只能被读，不能被修改；\n",
    "# print(Money.age)\n",
    "# print(Money.__dict__)\n",
    "\n",
    "# 类对象会被各个对象所共享\n",
    "two = Money()\n",
    "print(one.value)\n",
    "print(two.value)\n",
    "Money.value = 200\n",
    "print(one.value)\n",
    "print(two.value)\n",
    "\n",
    "# 总结\n",
    "one.age += 5   # 新增操作；可变变量的对象为修改\n",
    "print(Money.age)\n",
    "print(one.age)\n",
    "\n"
   ],
   "metadata": {
    "collapsed": false,
    "pycharm": {
     "name": "#%%\n"
    }
   }
  },
  {
   "cell_type": "code",
   "execution_count": 48,
   "outputs": [
    {
     "name": "stdout",
     "output_type": "stream",
     "text": [
      "18\n"
     ]
    },
    {
     "ename": "AttributeError",
     "evalue": "'Person' object has no attribute 'height'",
     "output_type": "error",
     "traceback": [
      "\u001B[1;31m---------------------------------------------------------------------------\u001B[0m",
      "\u001B[1;31mAttributeError\u001B[0m                            Traceback (most recent call last)",
      "Cell \u001B[1;32mIn [48], line 11\u001B[0m\n\u001B[0;32m      9\u001B[0m p1\u001B[38;5;241m.\u001B[39mage \u001B[38;5;241m=\u001B[39m \u001B[38;5;241m18\u001B[39m\n\u001B[0;32m     10\u001B[0m \u001B[38;5;28mprint\u001B[39m(p1\u001B[38;5;241m.\u001B[39mage)\n\u001B[1;32m---> 11\u001B[0m \u001B[43mp1\u001B[49m\u001B[38;5;241;43m.\u001B[39;49m\u001B[43mheight\u001B[49m \u001B[38;5;241m=\u001B[39m \u001B[38;5;241m180\u001B[39m\n\u001B[0;32m     12\u001B[0m \u001B[38;5;28mprint\u001B[39m(p1\u001B[38;5;241m.\u001B[39mheight)\n",
      "\u001B[1;31mAttributeError\u001B[0m: 'Person' object has no attribute 'height'"
     ]
    }
   ],
   "source": [
    "'''\n",
    "course20/152: 限制对象属性的添加\n",
    "'''\n",
    "class Person:\n",
    "    __slots__ = [\"age\"]  # 通过白名单字典方法限制由此产生的所有对象的属性范围；\n",
    "    pass\n",
    "\n",
    "p1 = Person()\n",
    "p1.age = 18\n",
    "print(p1.age)\n",
    "p1.height = 180  # __slots__ 限制加不了\n",
    "print(p1.height)\n"
   ],
   "metadata": {
    "collapsed": false,
    "pycharm": {
     "name": "#%%\n"
    }
   }
  },
  {
   "cell_type": "code",
   "execution_count": null,
   "outputs": [],
   "source": [],
   "metadata": {
    "collapsed": false,
    "pycharm": {
     "name": "#%%\n"
    }
   }
  }
 ],
 "metadata": {
  "kernelspec": {
   "display_name": "Python 3",
   "language": "python",
   "name": "python3"
  },
  "language_info": {
   "codemirror_mode": {
    "name": "ipython",
    "version": 2
   },
   "file_extension": ".py",
   "mimetype": "text/x-python",
   "name": "python",
   "nbconvert_exporter": "python",
   "pygments_lexer": "ipython2",
   "version": "2.7.6"
  }
 },
 "nbformat": 4,
 "nbformat_minor": 0
}