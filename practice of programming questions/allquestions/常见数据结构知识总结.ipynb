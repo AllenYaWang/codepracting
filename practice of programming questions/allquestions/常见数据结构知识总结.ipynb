{
 "cells": [
  {
   "cell_type": "code",
   "execution_count": null,
   "metadata": {
    "collapsed": true,
    "pycharm": {
     "name": "#%%\n"
    }
   },
   "outputs": [],
   "source": [
    "dic = {}\n",
    "dic[\"abc\"] = [2, 100, 4, [[2, -1], [1, -1]]]\n",
    "dic[\"bde\"] = [3, 200, 5, [[1, 1], [3, -1]]]\n",
    "dic[\"csd\"] = [1, 150, 4, [[2, 1], [1, -1]]]\n",
    "print(dic)\n",
    "print(dic.items())\n",
    "\n",
    "# 字典dic()是可遍历的，通过遍历字典达到遍历字典key, 再由dic[key]访问遍历值value, 进而达到对键值对key-value的整体操作。\n",
    "for item in dic:\n",
    "    print(item)\n",
    "\n",
    "\n",
    "\n"
   ]
  },
  {
   "cell_type": "code",
   "execution_count": null,
   "outputs": [],
   "source": [
    "# 集合的两种创建方式：\n",
    "# 1. 直接创建， a =  {1, 2, 3, 4, 5}\n",
    "# 2. set()类创建， a = set(iterable) # 可迭代对象\n",
    "vec = set([1, 2, 4, 8, 3])\n",
    "for num in set: # error, 集合不可循环遍历；\n",
    "    print(num)\n"
   ],
   "metadata": {
    "collapsed": false,
    "pycharm": {
     "name": "#%%\n"
    }
   }
  }
 ],
 "metadata": {
  "kernelspec": {
   "display_name": "Python 3",
   "language": "python",
   "name": "python3"
  },
  "language_info": {
   "codemirror_mode": {
    "name": "ipython",
    "version": 2
   },
   "file_extension": ".py",
   "mimetype": "text/x-python",
   "name": "python",
   "nbconvert_exporter": "python",
   "pygments_lexer": "ipython2",
   "version": "2.7.6"
  }
 },
 "nbformat": 4,
 "nbformat_minor": 0
}