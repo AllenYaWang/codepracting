{
 "cells": [
  {
   "cell_type": "code",
   "execution_count": null,
   "metadata": {
    "collapsed": true
   },
   "outputs": [],
   "source": [
    "'''\n",
    "course110/152：面向特性三大特性-封装\n",
    "封装的三大好处：\n",
    "1. 使用起来更加方便\n",
    "2. 保证数据的安全\n",
    "3. 利于代码维护\n",
    "'''"
   ]
  },
  {
   "cell_type": "code",
   "execution_count": null,
   "outputs": [],
   "source": [
    "'''\n",
    "course111/152：面向特性三大特性-继承 —— 概念\n",
    "course112/152：面向特性三大特性-继承 —— 语法概念\n",
    "\n",
    "继承：\n",
    "父类 —— 子类， 子类继承父类的特性\n",
    "分类： 单继承 多继承\n",
    "'''\n",
    "# 父类\n",
    "class Animal:\n",
    "    pass\n",
    "# 子类继承父类\n",
    "class Dog(Animal):\n",
    "    pass\n"
   ],
   "metadata": {
    "collapsed": false,
    "pycharm": {
     "name": "#%%\n"
    }
   }
  }
 ],
 "metadata": {
  "kernelspec": {
   "display_name": "Python 3",
   "language": "python",
   "name": "python3"
  },
  "language_info": {
   "codemirror_mode": {
    "name": "ipython",
    "version": 2
   },
   "file_extension": ".py",
   "mimetype": "text/x-python",
   "name": "python",
   "nbconvert_exporter": "python",
   "pygments_lexer": "ipython2",
   "version": "2.7.6"
  }
 },
 "nbformat": 4,
 "nbformat_minor": 0
}