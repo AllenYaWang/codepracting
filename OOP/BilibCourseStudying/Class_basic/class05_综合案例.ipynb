{
 "cells": [
  {
   "cell_type": "code",
   "execution_count": 2,
   "metadata": {
    "collapsed": true
   },
   "outputs": [
    {
     "name": "stdout",
     "output_type": "stream",
     "text": [
      "6\n",
      "20\n"
     ]
    }
   ],
   "source": [
    "'''\n",
    "course96/152:\n",
    "'''\n",
    "# 计算器的实现\n",
    "# 面向过程的编程实现\n",
    "\n",
    "def jia(n1, n2):\n",
    "    return n1+n2\n",
    "\n",
    "def jian(n1, n2):\n",
    "    return n1 - n2\n",
    "\n",
    "def cheng(n1, n2):\n",
    "    return n1 * n2\n",
    "\n",
    "res = jia(2, 4)\n",
    "print(res)\n",
    "# 现在计算式子：（2 + 6 - 4） * 5\n",
    "r1 = jia(2, 6)\n",
    "r2 = jian(r1, 4)\n",
    "r3 = cheng(r2, 5)\n",
    "print(r3)\n"
   ]
  }
 ],
 "metadata": {
  "kernelspec": {
   "display_name": "Python 3",
   "language": "python",
   "name": "python3"
  },
  "language_info": {
   "codemirror_mode": {
    "name": "ipython",
    "version": 2
   },
   "file_extension": ".py",
   "mimetype": "text/x-python",
   "name": "python",
   "nbconvert_exporter": "python",
   "pygments_lexer": "ipython2",
   "version": "2.7.6"
  }
 },
 "nbformat": 4,
 "nbformat_minor": 0
}